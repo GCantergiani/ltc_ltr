{
 "cells": [
  {
   "cell_type": "code",
   "execution_count": 76,
   "metadata": {},
   "outputs": [],
   "source": [
    "%matplotlib inline\n",
    "\n",
    "import matplotlib.pyplot as plt\n",
    "import numpy as np\n",
    "import pandas as pd\n",
    "import pylab\n",
    "\n",
    "np.set_printoptions(suppress=True)\n",
    "\n",
    "from scipy.optimize import curve_fit\n",
    "from matplotlib.ticker import MaxNLocator"
   ]
  },
  {
   "cell_type": "code",
   "execution_count": 2,
   "metadata": {},
   "outputs": [],
   "source": [
    "df_plurality = pd.read_csv('parallel_merge_plurality.csv', names=['k','node','number_influenced','s'])\n",
    "df_max = pd.read_csv('parallel_merge_max.csv', names=['k','node','number_influenced','s'])\n",
    "df_min = pd.read_csv('parallel_merge_min.csv', names=['k','node','number_influenced','s'])\n",
    "df_random = pd.read_csv('parallel_merge_random.csv', names=['k','node','number_influenced','s'])"
   ]
  },
  {
   "cell_type": "code",
   "execution_count": 3,
   "metadata": {},
   "outputs": [],
   "source": [
    "def transform_data_plot(df):\n",
    "    df_t = df.copy()\n",
    "\n",
    "    # Get only rows with the max k-value\n",
    "    idx = df_t.groupby(['node','s'])['k'].transform(max) == df_t['k']\n",
    "    df_t = df_t[idx][['node','number_influenced','s']]\n",
    "    df_t = df_t.reset_index(drop=True)\n",
    "    \n",
    "    # Group by s and calculate the mean\n",
    "    df_t = df_t[['s','number_influenced']].groupby(by='s', as_index=False).mean()\n",
    "        \n",
    "    return df_t"
   ]
  },
  {
   "cell_type": "markdown",
   "metadata": {},
   "source": [
    "## Simple majority"
   ]
  },
  {
   "cell_type": "code",
   "execution_count": 4,
   "metadata": {},
   "outputs": [
    {
     "data": {
      "text/html": [
       "<div>\n",
       "<style scoped>\n",
       "    .dataframe tbody tr th:only-of-type {\n",
       "        vertical-align: middle;\n",
       "    }\n",
       "\n",
       "    .dataframe tbody tr th {\n",
       "        vertical-align: top;\n",
       "    }\n",
       "\n",
       "    .dataframe thead th {\n",
       "        text-align: right;\n",
       "    }\n",
       "</style>\n",
       "<table border=\"1\" class=\"dataframe\">\n",
       "  <thead>\n",
       "    <tr style=\"text-align: right;\">\n",
       "      <th></th>\n",
       "      <th>s</th>\n",
       "      <th>number_influenced</th>\n",
       "    </tr>\n",
       "  </thead>\n",
       "  <tbody>\n",
       "    <tr>\n",
       "      <th>0</th>\n",
       "      <td>0</td>\n",
       "      <td>1.161</td>\n",
       "    </tr>\n",
       "    <tr>\n",
       "      <th>1</th>\n",
       "      <td>1</td>\n",
       "      <td>12.075</td>\n",
       "    </tr>\n",
       "    <tr>\n",
       "      <th>2</th>\n",
       "      <td>2</td>\n",
       "      <td>468.778</td>\n",
       "    </tr>\n",
       "    <tr>\n",
       "      <th>3</th>\n",
       "      <td>3</td>\n",
       "      <td>2488.339</td>\n",
       "    </tr>\n",
       "    <tr>\n",
       "      <th>4</th>\n",
       "      <td>4</td>\n",
       "      <td>8114.379</td>\n",
       "    </tr>\n",
       "  </tbody>\n",
       "</table>\n",
       "</div>"
      ],
      "text/plain": [
       "   s  number_influenced\n",
       "0  0              1.161\n",
       "1  1             12.075\n",
       "2  2            468.778\n",
       "3  3           2488.339\n",
       "4  4           8114.379"
      ]
     },
     "execution_count": 4,
     "metadata": {},
     "output_type": "execute_result"
    }
   ],
   "source": [
    "df_plot = transform_data_plot(df_plurality).round(3)\n",
    "df_plot.head()"
   ]
  },
  {
   "cell_type": "code",
   "execution_count": 5,
   "metadata": {},
   "outputs": [],
   "source": [
    "def bass_wo(x, M, P, Q):\n",
    "    \"\"\"\n",
    "    p: coefficinet of innvotion\n",
    "    q: coefficient of imitation\n",
    "    m: potential pool of adapoters\n",
    "    \n",
    "    The average value of p has been found to be 0.03, and is often less than 0.01\n",
    "    The average value of q has been found to be 0.38, with a typical range between 0.3 and 0.5\n",
    "    \"\"\"\n",
    "    y = M * (((P+Q)**2/P)*np.exp(-(P+Q)*(x)))/(1+(Q/P)*np.exp(-(P+Q)*(x)))**2 \n",
    "    return y"
   ]
  },
  {
   "cell_type": "code",
   "execution_count": 6,
   "metadata": {},
   "outputs": [],
   "source": [
    "xdata_sm = df_plot['s'].values\n",
    "ydata_sm = df_plot['number_influenced'].values"
   ]
  },
  {
   "cell_type": "code",
   "execution_count": 7,
   "metadata": {},
   "outputs": [
    {
     "data": {
      "text/plain": [
       "array([   1.161,   10.914,  456.703, 2019.561, 5626.04 , 5276.519,\n",
       "       3434.317, 1068.381,  386.185,  133.122,   41.833,   11.663,\n",
       "          2.111,    0.247,    0.282,    0.751,    0.133,    0.077])"
      ]
     },
     "execution_count": 7,
     "metadata": {},
     "output_type": "execute_result"
    }
   ],
   "source": [
    "inverse_cum_sm = df_plot['number_influenced'].values.copy()\n",
    "inverse_cum_sm[1:] -= inverse_cum_sm[:-1].copy()\n",
    "inverse_cum_sm"
   ]
  },
  {
   "cell_type": "code",
   "execution_count": 154,
   "metadata": {},
   "outputs": [
    {
     "name": "stdout",
     "output_type": "stream",
     "text": [
      "[18765.29644858     0.00322288     1.28619425]\n"
     ]
    },
    {
     "name": "stderr",
     "output_type": "stream",
     "text": [
      "/home/w/.local/lib/python3.5/site-packages/ipykernel_launcher.py:10: RuntimeWarning: overflow encountered in exp\n",
      "  # Remove the CWD from sys.path while we load stuff.\n",
      "/home/w/.local/lib/python3.5/site-packages/ipykernel_launcher.py:10: RuntimeWarning: invalid value encountered in true_divide\n",
      "  # Remove the CWD from sys.path while we load stuff.\n",
      "/home/w/.local/lib/python3.5/site-packages/ipykernel_launcher.py:10: RuntimeWarning: overflow encountered in square\n",
      "  # Remove the CWD from sys.path while we load stuff.\n"
     ]
    }
   ],
   "source": [
    "popt, pcov = curve_fit(bass_wo, xdata_sm, inverse_cum_sm)\n",
    "\n",
    "m_sm = popt[0].round(3)\n",
    "p_sm = popt[1].round(3)\n",
    "q_sm = popt[2].round(3)\n",
    "\n",
    "print(popt)"
   ]
  },
  {
   "cell_type": "code",
   "execution_count": 166,
   "metadata": {},
   "outputs": [
    {
     "data": {
      "text/plain": [
       "-3.093888621825279"
      ]
     },
     "execution_count": 166,
     "metadata": {},
     "output_type": "execute_result"
    }
   ],
   "source": [
    "residuals = ydata_sm - bass_wo(xdata_sm, *popt)\n",
    "ss_res = np.sum(residuals**2)\n",
    "ss_tot = np.sum((ydata_sm-np.mean(ydata_sm))**2)\n",
    "r_squared = 1 - (ss_res / ss_tot)\n",
    "r_squared"
   ]
  },
  {
   "cell_type": "code",
   "execution_count": 138,
   "metadata": {},
   "outputs": [
    {
     "data": {
      "image/png": "[encoded data removed]",
      "text/plain": [
       "<matplotlib.figure.Figure at 0x7fa997ec91d0>"
      ]
     },
     "metadata": {},
     "output_type": "display_data"
    }
   ],
   "source": [
    "x_sm = np.linspace(-1, 17, 100)\n",
    "y_sm = bass_wo(x_sm, *popt)\n",
    "y_standar = bass_wo(x_sm, m_sm, 0.03, 0.38)\n",
    "\n",
    "plt.title('rt-pol: Simple majority - new adopters')\n",
    "var_text = 'm = {}\\np = {}\\nq = {}'.format(m_sm,p_sm,q_sm)\n",
    "plt.text(17.5, 3500, var_text, horizontalalignment='right', style='italic')\n",
    "\n",
    "pylab.plot(x_sm, y_sm, label='Bass diffusion model')\n",
    "pylab.plot(x_sm, y_standar, label='Bass standar parameters')\n",
    "pylab.plot(xdata_sm, inverse_cum_sm, 'o', label='New influenced nodes')\n",
    "\n",
    "pylab.ylim(0,6500)\n",
    "pylab.xticks(range(0, 18))\n",
    "pylab.legend(loc='best')\n",
    "pylab.show()"
   ]
  },
  {
   "cell_type": "markdown",
   "metadata": {},
   "source": [
    "## Max"
   ]
  },
  {
   "cell_type": "code",
   "execution_count": 10,
   "metadata": {},
   "outputs": [
    {
     "data": {
      "text/html": [
       "<div>\n",
       "<style scoped>\n",
       "    .dataframe tbody tr th:only-of-type {\n",
       "        vertical-align: middle;\n",
       "    }\n",
       "\n",
       "    .dataframe tbody tr th {\n",
       "        vertical-align: top;\n",
       "    }\n",
       "\n",
       "    .dataframe thead th {\n",
       "        text-align: right;\n",
       "    }\n",
       "</style>\n",
       "<table border=\"1\" class=\"dataframe\">\n",
       "  <thead>\n",
       "    <tr style=\"text-align: right;\">\n",
       "      <th></th>\n",
       "      <th>s</th>\n",
       "      <th>number_influenced</th>\n",
       "    </tr>\n",
       "  </thead>\n",
       "  <tbody>\n",
       "    <tr>\n",
       "      <th>0</th>\n",
       "      <td>0</td>\n",
       "      <td>1.152</td>\n",
       "    </tr>\n",
       "    <tr>\n",
       "      <th>1</th>\n",
       "      <td>1</td>\n",
       "      <td>11.181</td>\n",
       "    </tr>\n",
       "    <tr>\n",
       "      <th>2</th>\n",
       "      <td>2</td>\n",
       "      <td>381.476</td>\n",
       "    </tr>\n",
       "    <tr>\n",
       "      <th>3</th>\n",
       "      <td>3</td>\n",
       "      <td>2292.954</td>\n",
       "    </tr>\n",
       "    <tr>\n",
       "      <th>4</th>\n",
       "      <td>4</td>\n",
       "      <td>7796.951</td>\n",
       "    </tr>\n",
       "  </tbody>\n",
       "</table>\n",
       "</div>"
      ],
      "text/plain": [
       "   s  number_influenced\n",
       "0  0              1.152\n",
       "1  1             11.181\n",
       "2  2            381.476\n",
       "3  3           2292.954\n",
       "4  4           7796.951"
      ]
     },
     "execution_count": 10,
     "metadata": {},
     "output_type": "execute_result"
    }
   ],
   "source": [
    "df_plot = transform_data_plot(df_max).round(3)\n",
    "df_plot.head()"
   ]
  },
  {
   "cell_type": "code",
   "execution_count": 11,
   "metadata": {},
   "outputs": [],
   "source": [
    "xdata_mx = df_plot['s'].values\n",
    "ydata_mx = df_plot['number_influenced'].values"
   ]
  },
  {
   "cell_type": "code",
   "execution_count": 12,
   "metadata": {},
   "outputs": [
    {
     "data": {
      "text/plain": [
       "array([   1.152,   10.029,  370.295, 1911.478, 5503.997, 5482.379,\n",
       "       3515.966, 1091.183,  390.247,  135.618,   42.254,   11.771,\n",
       "          2.134,    0.253,    0.283,    0.751,    0.133,    0.077])"
      ]
     },
     "execution_count": 12,
     "metadata": {},
     "output_type": "execute_result"
    }
   ],
   "source": [
    "inverse_cum_mx = df_plot['number_influenced'].values.copy()\n",
    "inverse_cum_mx[1:] -= inverse_cum_mx[:-1].copy()\n",
    "inverse_cum_mx"
   ]
  },
  {
   "cell_type": "code",
   "execution_count": 139,
   "metadata": {},
   "outputs": [
    {
     "name": "stdout",
     "output_type": "stream",
     "text": [
      "[18789.85094759     0.00284807     1.3027172 ]\n"
     ]
    },
    {
     "name": "stderr",
     "output_type": "stream",
     "text": [
      "/home/w/.local/lib/python3.5/site-packages/ipykernel_launcher.py:10: RuntimeWarning: overflow encountered in exp\n",
      "  # Remove the CWD from sys.path while we load stuff.\n",
      "/home/w/.local/lib/python3.5/site-packages/ipykernel_launcher.py:10: RuntimeWarning: invalid value encountered in true_divide\n",
      "  # Remove the CWD from sys.path while we load stuff.\n",
      "/home/w/.local/lib/python3.5/site-packages/ipykernel_launcher.py:10: RuntimeWarning: overflow encountered in square\n",
      "  # Remove the CWD from sys.path while we load stuff.\n"
     ]
    }
   ],
   "source": [
    "popt, pcov = curve_fit(bass_wo, xdata_mx, inverse_cum_mx)\n",
    "\n",
    "m_mx = popt[0].round(3)\n",
    "p_mx = popt[1].round(3)\n",
    "q_mx = popt[2].round(3)\n",
    "\n",
    "print(popt)"
   ]
  },
  {
   "cell_type": "code",
   "execution_count": 140,
   "metadata": {},
   "outputs": [
    {
     "data": {
      "image/png": "[encoded data removed]",
      "text/plain": [
       "<matplotlib.figure.Figure at 0x7fa997f9f898>"
      ]
     },
     "metadata": {},
     "output_type": "display_data"
    }
   ],
   "source": [
    "x_mx = np.linspace(-1, 17, 100)\n",
    "y_mx = bass_wo(x_mx, *popt)\n",
    "y_standar = bass_wo(x_mx, m_mx, 0.03, 0.38)\n",
    "\n",
    "plt.title('rt-pol: Max - new adopters')\n",
    "var_text = 'm = {}\\np = {}\\nq = {}'.format(m_mx,p_mx,q_mx)\n",
    "plt.text(17.5, 3500, var_text, horizontalalignment='right', style='italic')\n",
    "\n",
    "pylab.plot(x_mx, y_mx, label='Bass diffusion model')\n",
    "pylab.plot(x_mx, y_standar, label='Bass standar parameters')\n",
    "pylab.plot(xdata_mx, inverse_cum_mx, 'o', label='New influenced nodes')\n",
    "\n",
    "pylab.ylim(0,6500)\n",
    "pylab.xticks(range(0, 18))\n",
    "pylab.legend(loc='best')\n",
    "pylab.show()"
   ]
  },
  {
   "cell_type": "markdown",
   "metadata": {},
   "source": [
    "## Min"
   ]
  },
  {
   "cell_type": "code",
   "execution_count": 15,
   "metadata": {},
   "outputs": [
    {
     "data": {
      "text/html": [
       "<div>\n",
       "<style scoped>\n",
       "    .dataframe tbody tr th:only-of-type {\n",
       "        vertical-align: middle;\n",
       "    }\n",
       "\n",
       "    .dataframe tbody tr th {\n",
       "        vertical-align: top;\n",
       "    }\n",
       "\n",
       "    .dataframe thead th {\n",
       "        text-align: right;\n",
       "    }\n",
       "</style>\n",
       "<table border=\"1\" class=\"dataframe\">\n",
       "  <thead>\n",
       "    <tr style=\"text-align: right;\">\n",
       "      <th></th>\n",
       "      <th>s</th>\n",
       "      <th>number_influenced</th>\n",
       "    </tr>\n",
       "  </thead>\n",
       "  <tbody>\n",
       "    <tr>\n",
       "      <th>0</th>\n",
       "      <td>0</td>\n",
       "      <td>1452.124</td>\n",
       "    </tr>\n",
       "    <tr>\n",
       "      <th>1</th>\n",
       "      <td>1</td>\n",
       "      <td>2243.258</td>\n",
       "    </tr>\n",
       "    <tr>\n",
       "      <th>2</th>\n",
       "      <td>2</td>\n",
       "      <td>4084.759</td>\n",
       "    </tr>\n",
       "    <tr>\n",
       "      <th>3</th>\n",
       "      <td>3</td>\n",
       "      <td>5260.155</td>\n",
       "    </tr>\n",
       "    <tr>\n",
       "      <th>4</th>\n",
       "      <td>4</td>\n",
       "      <td>9473.139</td>\n",
       "    </tr>\n",
       "  </tbody>\n",
       "</table>\n",
       "</div>"
      ],
      "text/plain": [
       "   s  number_influenced\n",
       "0  0           1452.124\n",
       "1  1           2243.258\n",
       "2  2           4084.759\n",
       "3  3           5260.155\n",
       "4  4           9473.139"
      ]
     },
     "execution_count": 15,
     "metadata": {},
     "output_type": "execute_result"
    }
   ],
   "source": [
    "df_plot = transform_data_plot(df_min).round(3)\n",
    "df_plot.head()"
   ]
  },
  {
   "cell_type": "code",
   "execution_count": 16,
   "metadata": {},
   "outputs": [],
   "source": [
    "xdata_mn = df_plot['s'].values\n",
    "ydata_mn = df_plot['number_influenced'].values"
   ]
  },
  {
   "cell_type": "code",
   "execution_count": 17,
   "metadata": {},
   "outputs": [
    {
     "data": {
      "text/plain": [
       "array([1452.124,  791.134, 1841.501, 1175.396, 4212.984, 4360.784,\n",
       "       3137.819,  971.079,  352.171,  122.118,   38.603,   10.882,\n",
       "          1.983,    0.234,    0.242,    0.736,    0.133,    0.077])"
      ]
     },
     "execution_count": 17,
     "metadata": {},
     "output_type": "execute_result"
    }
   ],
   "source": [
    "inverse_cum_mn = df_plot['number_influenced'].values.copy()\n",
    "inverse_cum_mn[1:] -= inverse_cum_mn[:-1].copy()\n",
    "inverse_cum_mn"
   ]
  },
  {
   "cell_type": "code",
   "execution_count": 141,
   "metadata": {},
   "outputs": [
    {
     "name": "stdout",
     "output_type": "stream",
     "text": [
      "[37.19331154 39.04261134 22.64512111]\n"
     ]
    },
    {
     "name": "stderr",
     "output_type": "stream",
     "text": [
      "/home/w/.local/lib/python3.5/site-packages/ipykernel_launcher.py:10: RuntimeWarning: overflow encountered in exp\n",
      "  # Remove the CWD from sys.path while we load stuff.\n",
      "/home/w/.local/lib/python3.5/site-packages/ipykernel_launcher.py:10: RuntimeWarning: invalid value encountered in true_divide\n",
      "  # Remove the CWD from sys.path while we load stuff.\n",
      "/home/w/.local/lib/python3.5/site-packages/ipykernel_launcher.py:10: RuntimeWarning: overflow encountered in square\n",
      "  # Remove the CWD from sys.path while we load stuff.\n",
      "/home/w/.local/lib/python3.5/site-packages/scipy/optimize/minpack.py:785: OptimizeWarning: Covariance of the parameters could not be estimated\n",
      "  category=OptimizeWarning)\n"
     ]
    }
   ],
   "source": [
    "popt, pcov = curve_fit(bass_wo, xdata_mn, inverse_cum_mn)\n",
    "\n",
    "m_mn = popt[0].round(3)\n",
    "p_mn = popt[1].round(3)\n",
    "q_mn = popt[2].round(3)\n",
    "\n",
    "print(popt)"
   ]
  },
  {
   "cell_type": "code",
   "execution_count": 142,
   "metadata": {},
   "outputs": [
    {
     "data": {
      "image/png": "[encoded data removed]",
      "text/plain": [
       "<matplotlib.figure.Figure at 0x7fa997f4d978>"
      ]
     },
     "metadata": {},
     "output_type": "display_data"
    }
   ],
   "source": [
    "x_mn = np.linspace(-1, 17, 100)\n",
    "y_mn = bass_wo(x_mn, *popt)\n",
    "y_standar = bass_wo(x_mn, m_mn, 0.03, 0.38)\n",
    "\n",
    "plt.title('rt-pol: Min - new adopters')\n",
    "var_text = 'm = {}\\np = {}\\nq = {}'.format(m_mn,p_mn,q_mn)\n",
    "plt.text(17.5, 3500, var_text, horizontalalignment='right', style='italic')\n",
    "\n",
    "pylab.plot(x_mn, y_mn, label='Bass diffusion model')\n",
    "pylab.plot(x_mn, y_standar, label='Bass standar parameters')\n",
    "pylab.plot(xdata_mn, inverse_cum_mn, 'o', label='New influenced nodes')\n",
    "\n",
    "pylab.ylim(0,6500)\n",
    "pylab.xticks(range(0, 18))\n",
    "pylab.legend(loc='best')\n",
    "pylab.show()"
   ]
  },
  {
   "cell_type": "markdown",
   "metadata": {},
   "source": [
    "## Random"
   ]
  },
  {
   "cell_type": "code",
   "execution_count": 20,
   "metadata": {},
   "outputs": [
    {
     "data": {
      "text/html": [
       "<div>\n",
       "<style scoped>\n",
       "    .dataframe tbody tr th:only-of-type {\n",
       "        vertical-align: middle;\n",
       "    }\n",
       "\n",
       "    .dataframe tbody tr th {\n",
       "        vertical-align: top;\n",
       "    }\n",
       "\n",
       "    .dataframe thead th {\n",
       "        text-align: right;\n",
       "    }\n",
       "</style>\n",
       "<table border=\"1\" class=\"dataframe\">\n",
       "  <thead>\n",
       "    <tr style=\"text-align: right;\">\n",
       "      <th></th>\n",
       "      <th>s</th>\n",
       "      <th>number_influenced</th>\n",
       "    </tr>\n",
       "  </thead>\n",
       "  <tbody>\n",
       "    <tr>\n",
       "      <th>0</th>\n",
       "      <td>0</td>\n",
       "      <td>182.057</td>\n",
       "    </tr>\n",
       "    <tr>\n",
       "      <th>1</th>\n",
       "      <td>1</td>\n",
       "      <td>792.560</td>\n",
       "    </tr>\n",
       "    <tr>\n",
       "      <th>2</th>\n",
       "      <td>2</td>\n",
       "      <td>2311.551</td>\n",
       "    </tr>\n",
       "    <tr>\n",
       "      <th>3</th>\n",
       "      <td>3</td>\n",
       "      <td>3901.335</td>\n",
       "    </tr>\n",
       "    <tr>\n",
       "      <th>4</th>\n",
       "      <td>4</td>\n",
       "      <td>8563.746</td>\n",
       "    </tr>\n",
       "  </tbody>\n",
       "</table>\n",
       "</div>"
      ],
      "text/plain": [
       "   s  number_influenced\n",
       "0  0            182.057\n",
       "1  1            792.560\n",
       "2  2           2311.551\n",
       "3  3           3901.335\n",
       "4  4           8563.746"
      ]
     },
     "execution_count": 20,
     "metadata": {},
     "output_type": "execute_result"
    }
   ],
   "source": [
    "df_plot = transform_data_plot(df_random).round(3)\n",
    "df_plot.head()"
   ]
  },
  {
   "cell_type": "code",
   "execution_count": 21,
   "metadata": {},
   "outputs": [],
   "source": [
    "xdata_r = df_plot['s'].values\n",
    "ydata_r = df_plot['number_influenced'].values"
   ]
  },
  {
   "cell_type": "code",
   "execution_count": 22,
   "metadata": {},
   "outputs": [
    {
     "data": {
      "text/plain": [
       "array([ 182.057,  610.503, 1518.991, 1589.784, 4662.411, 4840.077,\n",
       "       3405.067, 1084.702,  385.457,  133.643,   41.676,   11.671,\n",
       "          2.343,    0.29 ,    0.201,    0.87 ,    0.103,    0.154])"
      ]
     },
     "execution_count": 22,
     "metadata": {},
     "output_type": "execute_result"
    }
   ],
   "source": [
    "inverse_cum_r = df_plot['number_influenced'].values.copy()\n",
    "inverse_cum_r[1:] -= inverse_cum_r[:-1].copy()\n",
    "inverse_cum_r"
   ]
  },
  {
   "cell_type": "code",
   "execution_count": 143,
   "metadata": {},
   "outputs": [
    {
     "name": "stdout",
     "output_type": "stream",
     "text": [
      "[18046.7763558      0.00535312     1.1285022 ]\n"
     ]
    },
    {
     "name": "stderr",
     "output_type": "stream",
     "text": [
      "/home/w/.local/lib/python3.5/site-packages/ipykernel_launcher.py:10: RuntimeWarning: overflow encountered in exp\n",
      "  # Remove the CWD from sys.path while we load stuff.\n",
      "/home/w/.local/lib/python3.5/site-packages/ipykernel_launcher.py:10: RuntimeWarning: invalid value encountered in true_divide\n",
      "  # Remove the CWD from sys.path while we load stuff.\n",
      "/home/w/.local/lib/python3.5/site-packages/ipykernel_launcher.py:10: RuntimeWarning: overflow encountered in square\n",
      "  # Remove the CWD from sys.path while we load stuff.\n"
     ]
    }
   ],
   "source": [
    "popt, pcov = curve_fit(bass_wo, xdata_r, inverse_cum_r)\n",
    "\n",
    "m_r = popt[0].round(3)\n",
    "p_r = popt[1].round(3)\n",
    "q_r = popt[2].round(3)\n",
    "\n",
    "print(popt)"
   ]
  },
  {
   "cell_type": "code",
   "execution_count": 144,
   "metadata": {},
   "outputs": [
    {
     "data": {
      "image/png": "[encoded data removed]",
      "text/plain": [
       "<matplotlib.figure.Figure at 0x7fa997196550>"
      ]
     },
     "metadata": {},
     "output_type": "display_data"
    }
   ],
   "source": [
    "x_r = np.linspace(-1, 17, 100)\n",
    "y_r = bass_wo(x_r, *popt)\n",
    "y_standar = bass_wo(x_r, m_r, 0.03, 0.38)\n",
    "\n",
    "plt.title('rt-pol: Random - new adopters')\n",
    "var_text = 'm = {}\\np = {}\\nq = {}'.format(m_r,p_r,q_r)\n",
    "plt.text(17.5, 3500, var_text, horizontalalignment='right', style='italic')\n",
    "\n",
    "pylab.plot(x_r, y_r, label='Bass diffusion model')\n",
    "pylab.plot(x_r, y_standar, label='Bass standar parameters')\n",
    "pylab.plot(xdata_r, inverse_cum_r, 'o', label='New influenced nodes')\n",
    "\n",
    "pylab.ylim(0,6500)\n",
    "pylab.xticks(range(0, 18))\n",
    "pylab.legend(loc='best')\n",
    "pylab.show()"
   ]
  },
  {
   "cell_type": "markdown",
   "metadata": {},
   "source": [
    "# Merge plots"
   ]
  },
  {
   "cell_type": "code",
   "execution_count": 153,
   "metadata": {},
   "outputs": [
    {
     "name": "stderr",
     "output_type": "stream",
     "text": [
      "/home/w/.local/lib/python3.5/site-packages/matplotlib/cbook/deprecation.py:106: MatplotlibDeprecationWarning: The axisbg attribute was deprecated in version 2.0. Use facecolor instead.\n",
      "  warnings.warn(message, mplDeprecation, stacklevel=1)\n"
     ]
    },
    {
     "data": {
      "image/png": "[encoded data removed]",
      "text/plain": [
       "<matplotlib.figure.Figure at 0x7fa996dedfd0>"
      ]
     },
     "metadata": {},
     "output_type": "display_data"
    }
   ],
   "source": [
    "import numpy as np\n",
    "import matplotlib.pyplot as plt\n",
    "\n",
    "\n",
    "# min, random, majority, max\n",
    "\n",
    "x1 = np.linspace(0.0, 5.0)\n",
    "x2 = np.linspace(0.0, 2.0)\n",
    "\n",
    "y1 = np.cos(2 * np.pi * x1) * np.exp(-x1)\n",
    "y2 = np.cos(2 * np.pi * x2)\n",
    "\n",
    "fig = plt.figure(figsize=(20, 3))\n",
    "\n",
    "ax1 = plt.subplot(1, 4, 1, axisbg='white')\n",
    "plt.plot(x_mn, y_mn, label='Bass diffusion model')\n",
    "plt.plot(xdata_mn, inverse_cum_mn, 'o', label='New influenced nodes')\n",
    "plt.xticks(np.linspace(0, 20, 10, endpoint=False))\n",
    "plt.subplots_adjust(wspace = .05)\n",
    "var_text = 'm = {}\\np = {}\\nq = {}'.format('-','-','-')\n",
    "plt.text(17.5, 4500, var_text, horizontalalignment='right', style='italic', fontsize=13)\n",
    "\n",
    "ax2 = plt.subplot(1, 4, 2, sharey=ax1, axisbg='white')\n",
    "plt.plot(x_r, y_r) \n",
    "plt.plot(xdata_r, inverse_cum_r, 'o')\n",
    "plt.xticks(np.linspace(0, 20, 10, endpoint=False))\n",
    "plt.setp(ax2.get_yticklabels(), visible=False)\n",
    "var_text = 'm = {}\\np = {}\\nq = {}'.format(m_r,p_r,q_r)\n",
    "plt.text(17.5, 4500, var_text, horizontalalignment='right', style='italic', fontsize=13)\n",
    "\n",
    "ax3 = plt.subplot(1, 4, 3, sharey=ax1, axisbg='white')\n",
    "plt.plot(x_sm, y_sm )\n",
    "plt.plot(xdata_sm, inverse_cum_sm, 'o')\n",
    "plt.xticks(np.linspace(0, 20, 10, endpoint=False))\n",
    "plt.setp(ax3.get_yticklabels(), visible=False)\n",
    "var_text = 'm = {}\\np = {}\\nq = {}'.format(m_sm,p_sm,q_sm)\n",
    "plt.text(17.5, 4500, var_text, horizontalalignment='right', style='italic', fontsize=13)\n",
    "\n",
    "\n",
    "ax4 = plt.subplot(1, 4, 4, sharey=ax1, axisbg='white')\n",
    "plt.plot(x_mx, y_mx )\n",
    "plt.plot(xdata_r, inverse_cum_r, 'o')\n",
    "plt.xticks(np.linspace(0, 20, 10, endpoint=False))\n",
    "plt.setp(ax4.get_yticklabels(), visible=False)\n",
    "var_text = 'm = {}\\np = {}\\nq = {}'.format(m_mx,p_mx,q_mx)\n",
    "plt.text(17.5, 4500, var_text, horizontalalignment='right', style='italic', fontsize=13)\n",
    "\n",
    "\n",
    "ax1.legend(bbox_to_anchor=(2.65, -0.15), ncol=2)\n",
    "\n",
    "plt.show()"
   ]
  }
 ],
 "metadata": {
  "kernelspec": {
   "display_name": "Python 3",
   "language": "python",
   "name": "python3"
  },
  "language_info": {
   "codemirror_mode": {
    "name": "ipython",
    "version": 3
   },
   "file_extension": ".py",
   "mimetype": "text/x-python",
   "name": "python",
   "nbconvert_exporter": "python",
   "pygments_lexer": "ipython3",
   "version": "3.5.2"
  }
 },
 "nbformat": 4,
 "nbformat_minor": 2
}
